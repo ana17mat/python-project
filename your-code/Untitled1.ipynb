{
 "cells": [
  {
   "cell_type": "code",
   "execution_count": null,
   "id": "ba19dc8c-366d-45e7-abc4-622a3702db1c",
   "metadata": {},
   "outputs": [
    {
     "name": "stdout",
     "output_type": "stream",
     "text": [
      "pygame 2.1.2 (SDL 2.0.18, Python 3.9.7)\n",
      "Hello from the pygame community. https://www.pygame.org/contribute.html\n"
     ]
    }
   ],
   "source": [
    "import pygame\n",
    "\n",
    "\n",
    "pygame.init()\n",
    "\n",
    "display_width=900;\n",
    "display_height=600;\n",
    "\n",
    "gameDisplay=pygame.display.set_mode((display_width,display_height))\n",
    "\n",
    "#pygame.display.set_caption('Pop Bubbles')\n",
    "\n",
    "#blue =(222,241,255);\n",
    "#gameDisplay.fill(blue);\n",
    "\n",
    "stopimage=pygame.image.load(\"/Users/anamatias/Desktop/PopBubbles/stop.png\")\n",
    "\n",
    "while True:\n",
    "    \n",
    "    gameDisplay.blit(stopimage,(0,0))"
   ]
  },
  {
   "cell_type": "code",
   "execution_count": null,
   "id": "96a6ca4b-f5da-4bb0-bf18-272bcf1b117a",
   "metadata": {},
   "outputs": [],
   "source": []
  }
 ],
 "metadata": {
  "kernelspec": {
   "display_name": "Python 3 (ipykernel)",
   "language": "python",
   "name": "python3"
  },
  "language_info": {
   "codemirror_mode": {
    "name": "ipython",
    "version": 3
   },
   "file_extension": ".py",
   "mimetype": "text/x-python",
   "name": "python",
   "nbconvert_exporter": "python",
   "pygments_lexer": "ipython3",
   "version": "3.9.7"
  }
 },
 "nbformat": 4,
 "nbformat_minor": 5
}
